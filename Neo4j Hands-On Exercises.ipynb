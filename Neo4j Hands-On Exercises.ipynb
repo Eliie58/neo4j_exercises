{
 "cells": [
  {
   "cell_type": "markdown",
   "metadata": {
    "vscode": {
     "languageId": "plaintext"
    }
   },
   "source": [
    "# Neo4j Hands-On Exercises\n",
    "\n",
    "Welcome to the Neo4j exercise notebook! These exercises are designed to help you become familiar with Neo4j and Cypher. Complete each section in order, starting with the basics and progressing to more advanced tasks. "
   ]
  },
  {
   "cell_type": "markdown",
   "metadata": {},
   "source": [
    "## Prerequisites\n",
    "Ensure you have:\n",
    "- A Neo4j database instance running (Aura).\n",
    "- Access to the Neo4j Browser or another Cypher query editor."
   ]
  },
  {
   "cell_type": "markdown",
   "metadata": {},
   "source": [
    "## 1. Inserting Nodes"
   ]
  },
  {
   "cell_type": "markdown",
   "metadata": {},
   "source": [
    "### **Exercise 1.1: Create a Single Node**\n",
    "Create a node representing a person named `Alice`.\n",
    "\n",
    "**Query Example**:  \n",
    "```cypher\n",
    "CREATE (a:Person {name: \"Alice\"})\n",
    "```\n",
    "\n",
    "**Task**: Create another node named `Bob`.\n",
    "\n"
   ]
  },
  {
   "cell_type": "code",
   "execution_count": null,
   "metadata": {
    "vscode": {
     "languageId": "plaintext"
    }
   },
   "outputs": [],
   "source": []
  },
  {
   "cell_type": "markdown",
   "metadata": {},
   "source": [
    "### **Exercise 1.2: Add Multiple Nodes**\n",
    "Create a node representing a person named `Alice`.\n",
    "\n",
    "Create three nodes representing cities: `Paris`, `London`, and `New York`.\n",
    "\n",
    "Hint: Use the `CREATE` clause multiple times in the same query."
   ]
  },
  {
   "cell_type": "code",
   "execution_count": null,
   "metadata": {
    "vscode": {
     "languageId": "plaintext"
    }
   },
   "outputs": [],
   "source": []
  },
  {
   "cell_type": "markdown",
   "metadata": {},
   "source": [
    "## 2. Creating Relationships"
   ]
  },
  {
   "cell_type": "markdown",
   "metadata": {},
   "source": [
    "### **Exercise 2.1: Create a Relationship**\n",
    "Create a relationship where `Alice` knows `Bob`.\n",
    "\n",
    "**Query Example**:  \n",
    "```cypher\n",
    "MATCH (a:Person {name: \"Alice\"}), (b:Person {name: \"Bob\"})\n",
    "CREATE (a)-[:KNOWS]->(b)\n",
    "```\n",
    "\n",
    "**Task**: Create a relationship where `Bob` *lives* in `Paris`.\n",
    "\n"
   ]
  },
  {
   "cell_type": "code",
   "execution_count": null,
   "metadata": {
    "vscode": {
     "languageId": "plaintext"
    }
   },
   "outputs": [],
   "source": []
  },
  {
   "cell_type": "markdown",
   "metadata": {},
   "source": [
    "### **Exercise 2.2: Chain Relationships**\n",
    "Connect `Alice`, `Bob`, and `Charlie` in a chain of *friends*.\n",
    "\n",
    "* Alice → Bob → Charlie."
   ]
  },
  {
   "cell_type": "code",
   "execution_count": null,
   "metadata": {
    "vscode": {
     "languageId": "plaintext"
    }
   },
   "outputs": [],
   "source": []
  },
  {
   "cell_type": "markdown",
   "metadata": {},
   "source": [
    "## 3. Setting Properties"
   ]
  },
  {
   "cell_type": "markdown",
   "metadata": {},
   "source": [
    "### **Exercise 3.1: Add Properties to Nodes**\n",
    "Update the `Paris` node to include the following properties:\n",
    "\n",
    "* `country: \"France\"`\n",
    "* `population: 2148000`\n",
    "\n",
    "**Hint**: Use the `SET` clause.\n",
    "\n",
    "Do the same for all the other Cities."
   ]
  },
  {
   "cell_type": "markdown",
   "metadata": {},
   "source": []
  },
  {
   "cell_type": "markdown",
   "metadata": {},
   "source": [
    "### **Exercise 3.2: Add a Property to a Relationship**\n",
    "Add a `since` property to the `KNOWS` relationship between `Alice` and `Bob`. Set the value to `2023`.\n",
    "\n",
    "**Hint**: Use `MATCH` to find the relationship and `SET` to add the property."
   ]
  },
  {
   "cell_type": "code",
   "execution_count": null,
   "metadata": {
    "vscode": {
     "languageId": "plaintext"
    }
   },
   "outputs": [],
   "source": []
  },
  {
   "cell_type": "markdown",
   "metadata": {},
   "source": [
    "## 4. Selecting Nodes"
   ]
  },
  {
   "cell_type": "markdown",
   "metadata": {},
   "source": [
    "### **Exercise 4.1: Find All People**\n",
    "Write a query to retrieve all nodes with the label `Person`.\n",
    "\n",
    "**Hint**: Use `MATCH` and `RETURN`."
   ]
  },
  {
   "cell_type": "code",
   "execution_count": null,
   "metadata": {
    "vscode": {
     "languageId": "plaintext"
    }
   },
   "outputs": [],
   "source": []
  },
  {
   "cell_type": "markdown",
   "metadata": {},
   "source": [
    "### **Exercise 4.2: Filter Nodes by Property**\n",
    "\n",
    "Retrieve all cities in `France`.\n",
    "\n",
    "**Hint**: Use `WHERE` to filter by a property."
   ]
  },
  {
   "cell_type": "code",
   "execution_count": null,
   "metadata": {
    "vscode": {
     "languageId": "plaintext"
    }
   },
   "outputs": [],
   "source": []
  },
  {
   "cell_type": "markdown",
   "metadata": {},
   "source": [
    "## 5. Working with Paths"
   ]
  },
  {
   "cell_type": "markdown",
   "metadata": {},
   "source": [
    "### **Exercise 5.1: Find Shortest Path**\n",
    "Find the shortest path between `Alice` and `Charlie`.\n",
    "\n",
    "**Hint**: Use the [`shortestPath`](https://neo4j.com/docs/cypher-manual/current/patterns/reference/#shortest-functions-rules-path-pattern-length) function."
   ]
  },
  {
   "cell_type": "code",
   "execution_count": null,
   "metadata": {
    "vscode": {
     "languageId": "plaintext"
    }
   },
   "outputs": [],
   "source": []
  },
  {
   "cell_type": "markdown",
   "metadata": {},
   "source": [
    "### **Exercise 5.2: All Simple Paths**\n",
    "\n",
    "Retrieve all simple paths between `Alice` and `Charlie`.\n",
    "\n",
    "**Hint**: Use `MATCH` with a variable-length relationship."
   ]
  },
  {
   "cell_type": "code",
   "execution_count": null,
   "metadata": {
    "vscode": {
     "languageId": "plaintext"
    }
   },
   "outputs": [],
   "source": []
  },
  {
   "cell_type": "markdown",
   "metadata": {},
   "source": [
    "## 6. Advanced Queries"
   ]
  },
  {
   "cell_type": "markdown",
   "metadata": {
    "vscode": {
     "languageId": "plaintext"
    }
   },
   "source": [
    "Run this command before continuing:\n",
    "\n",
    "```cypher\n",
    "MERGE (alice:Person {name: \"Alice\"}),\n",
    "(bob:Person {name: \"Bob\"}),\n",
    "(charlie:Person {name: \"Charlie\"}),\n",
    "(paris:City {name: \"Paris\"}),\n",
    "(london:City {name: \"London\"}),\n",
    "\n",
    "(alice)-[:LIVES]->(paris),\n",
    "(charlie)-[:LIVES]->(paris),\n",
    "(bob)-[:LIVES]->(london);\n",
    "```"
   ]
  },
  {
   "cell_type": "markdown",
   "metadata": {},
   "source": [
    "### **Exercise 6.1: Aggregation**\n",
    "Find the number of people who live in each city.\n",
    "\n",
    "**Hint**: Use MATCH, RETURN, and COUNT()."
   ]
  },
  {
   "cell_type": "code",
   "execution_count": null,
   "metadata": {
    "vscode": {
     "languageId": "plaintext"
    }
   },
   "outputs": [],
   "source": []
  },
  {
   "cell_type": "markdown",
   "metadata": {},
   "source": [
    "### **Exercise 6.2: Subgraph Creation**\n",
    "Find all nodes and relationships connected to `Alice`.\n",
    "\n",
    "**Hint**: Use `MATCH` with the `*` operator."
   ]
  },
  {
   "cell_type": "code",
   "execution_count": null,
   "metadata": {
    "vscode": {
     "languageId": "plaintext"
    }
   },
   "outputs": [],
   "source": []
  },
  {
   "cell_type": "markdown",
   "metadata": {},
   "source": [
    "### **Exercise 6.3: Complex Query**\n",
    "Retrieve all cities where at least one person has visited. For each city, also return the names of the visitors.\n",
    "\n",
    "**Hint**: Use `MATCH` and aggregation functions like `COLLECT()`.\n",
    "\n"
   ]
  },
  {
   "cell_type": "code",
   "execution_count": null,
   "metadata": {
    "vscode": {
     "languageId": "plaintext"
    }
   },
   "outputs": [],
   "source": []
  }
 ],
 "metadata": {
  "language_info": {
   "name": "python"
  }
 },
 "nbformat": 4,
 "nbformat_minor": 2
}
