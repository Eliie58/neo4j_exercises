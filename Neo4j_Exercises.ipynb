{
  "cells": [
    {
      "cell_type": "markdown",
      "metadata": {
        "id": "nb1pXsy6PLJ9"
      },
      "source": [
        "# Neo4j"
      ]
    },
    {
      "cell_type": "markdown",
      "metadata": {
        "id": "sSH5iVTRTc6i"
      },
      "source": [
        "## Setup"
      ]
    },
    {
      "cell_type": "markdown",
      "metadata": {
        "id": "7lsLn-rZPN17"
      },
      "source": [
        "For this session, we will try to run a local version of Neo4j, using [docker](https://www.docker.com/).\n",
        "\n",
        "To install docker on your environment, you can follow these steps:\n",
        "* [Windows](https://docs.docker.com/desktop/install/windows-install/)\n",
        "* [Linux](https://docs.docker.com/desktop/install/linux-install/)\n",
        "* [Mac](https://docs.docker.com/desktop/install/linux-install/)\n",
        "\n",
        "After installing Docker on your machine, run the following commands to run a neo4j image in a docker container:\n",
        "```\n",
        "docker rm neo4j-nosql\n",
        "docker run --name neo4j-nosql -p 7687:7687 -p 7474:7474 -d --env NEO4J_AUTH=neo4j/password neo4j:latest\n",
        "```\n",
        "\n",
        "The options used are:\n",
        "* `--name`: To name the container\n",
        "* `-p`: Specify container ports to expose\n",
        "* `-d`: Run the container in the background\n",
        "* `--env`: Set environment variable. Username/password in this case.\n",
        "\n",
        "To validate the container is running, open [`http://localhost:7474/browser/`](http://localhost:7474/browser/) in your browser."
      ]
    },
    {
      "cell_type": "markdown",
      "metadata": {
        "id": "Kk2RwxyETaQA"
      },
      "source": [
        "## CQL (Cypher Query Language)"
      ]
    },
    {
      "cell_type": "markdown",
      "metadata": {
        "id": "IkbKl7BzX1i6"
      },
      "source": [
        "### Constaints"
      ]
    },
    {
      "cell_type": "markdown",
      "metadata": {
        "id": "7tIR5FVKX3dg"
      },
      "source": [
        "We would like for this exercise, for our nodes to have unique names. To achieve that we will create a unique constaint. We will follow the [example](https://neo4j.com/docs/cypher-manual/current/constraints/examples/#constraints-create-a-node-uniqueness-constraint) from the documentation\n",
        "```\n",
        "CREATE CONSTRAINT character_name_unique FOR (c:Character) REQUIRE c.name IS UNIQUE\n",
        "```"
      ]
    },
    {
      "cell_type": "markdown",
      "metadata": {
        "id": "eVq24UWIXF7K"
      },
      "source": [
        "### Data Loading"
      ]
    },
    {
      "cell_type": "markdown",
      "metadata": {
        "id": "R3yECJmyThmQ"
      },
      "source": [
        "Let's start loading some data.\n",
        "\n",
        "We have already seen the [`CREATE`](https://neo4j.com/docs/cypher-manual/current/clauses/create/) and [`MERGE`](https://neo4j.com/docs/cypher-manual/5/clauses/merge/) commands.\n",
        "For this exercise, we will use the [`LOAD CSV`](https://neo4j.com/docs/cypher-manual/current/clauses/load-csv/) command.\n",
        "\n",
        "Execute the following command in your browser window:\n",
        "```\n",
        "LOAD CSV WITH HEADERS FROM\n",
        "\"https://raw.githubusercontent.com/Eliie58/neo4j_exercises/main/data/stormofswords.csv\" AS row\n",
        "MERGE (src:Character {name: row.Source})\n",
        "MERGE (tgt:Character {name: row.Target})\n",
        "MERGE (src)-[r:INTERACTS]->(tgt)\n",
        "ON CREATE SET r.weight = toInteger(row.Weight)\n",
        "```"
      ]
    },
    {
      "cell_type": "markdown",
      "metadata": {
        "id": "_Bo8o1VzXIgx"
      },
      "source": [
        "### Data Visualization"
      ]
    },
    {
      "cell_type": "markdown",
      "metadata": {
        "id": "Tsxr-wGCXFD_"
      },
      "source": [
        "Let's see the data we just imported. Run the following command:\n",
        "\n",
        "```\n",
        "MATCH path=()-->() RETURN n\n",
        "```"
      ]
    },
    {
      "cell_type": "markdown",
      "metadata": {
        "id": "X2pbbsx0YV7v"
      },
      "source": [
        "### Data Analysis"
      ]
    },
    {
      "cell_type": "markdown",
      "metadata": {
        "id": "HO5CiSy5Yabi"
      },
      "source": [
        "Let's start by answering some simple questions:\n"
      ]
    },
    {
      "cell_type": "markdown",
      "metadata": {
        "id": "S0nHaIiIYlGP"
      },
      "source": [
        "1 - How many characters appear in the graph?"
      ]
    },
    {
      "cell_type": "code",
      "execution_count": null,
      "metadata": {
        "id": "JlDdx4nWYmYU"
      },
      "outputs": [],
      "source": [
        "# Write your answer\n"
      ]
    },
    {
      "cell_type": "markdown",
      "metadata": {
        "id": "nOiDRCZ8YmwG"
      },
      "source": [
        "2 - Get summary statistics for the minimum, maximum and average number of characters each\n",
        "character has interacted with"
      ]
    },
    {
      "cell_type": "code",
      "execution_count": null,
      "metadata": {
        "id": "eLY4uoj8YsbG"
      },
      "outputs": [],
      "source": [
        "# Write your answer\n"
      ]
    },
    {
      "cell_type": "markdown",
      "metadata": {
        "id": "604Z_xurY1Ax"
      },
      "source": [
        "3 - Find the shortest path from Arya to Ramsay. Consider the possibility of having few paths\n",
        "of same length. List all of them in the result. You can use the functions `shortestPath`and\n",
        "`allShortestPaths` provided in Cypher."
      ]
    },
    {
      "cell_type": "code",
      "execution_count": null,
      "metadata": {
        "id": "UgkdZzGxZuE6"
      },
      "outputs": [],
      "source": [
        "# Write your answer\n"
      ]
    },
    {
      "cell_type": "markdown",
      "metadata": {
        "id": "_7avFkbaZtcK"
      },
      "source": [
        "4 - Let's expand our graph, and add more information.\n",
        "\n",
        "We will use the [`family ties`](https://raw.githubusercontent.com/Eliie58/neo4j_exercises/main/data/family_ties.csv) information for this purpose.\n",
        "\n",
        "Use the `LOAD CSV` command, to read information from the csv file, and create a new relationship `RELATIONSHIP` between the characters."
      ]
    },
    {
      "cell_type": "code",
      "execution_count": null,
      "metadata": {
        "id": "nK_LQouhdSt_"
      },
      "outputs": [],
      "source": [
        "# Write your answer\n"
      ]
    },
    {
      "cell_type": "markdown",
      "metadata": {
        "id": "g3eoobSCdSVL"
      },
      "source": [
        "5 - Who are Jon Snows’ parents?"
      ]
    },
    {
      "cell_type": "code",
      "execution_count": null,
      "metadata": {
        "id": "L-9DkRWWdXP-"
      },
      "outputs": [],
      "source": [
        "# Write your answer\n"
      ]
    },
    {
      "cell_type": "markdown",
      "metadata": {
        "id": "OlQxJAiwge9D"
      },
      "source": [
        "6 - You can notice that sibling relationships are missing. Try to create them by finding common\n",
        "parents for the ties we have already in the graph."
      ]
    },
    {
      "cell_type": "code",
      "execution_count": null,
      "metadata": {
        "id": "gtzbrnimggbH"
      },
      "outputs": [],
      "source": [
        "# Write your answer\n"
      ]
    },
    {
      "cell_type": "markdown",
      "metadata": {
        "id": "8J1iHjHMh21Q"
      },
      "source": [
        "7 - Are there any children of incestuous relationships?"
      ]
    },
    {
      "cell_type": "code",
      "execution_count": null,
      "metadata": {
        "id": "iUtdjSuPh3It"
      },
      "outputs": [],
      "source": [
        "# Write your answer\n"
      ]
    }
  ],
  "metadata": {
    "colab": {
      "provenance": []
    },
    "kernelspec": {
      "display_name": "Python 3",
      "name": "python3"
    },
    "language_info": {
      "name": "python"
    }
  },
  "nbformat": 4,
  "nbformat_minor": 0
}
